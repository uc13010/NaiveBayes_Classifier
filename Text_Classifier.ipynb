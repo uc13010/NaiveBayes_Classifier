{
  "nbformat": 4,
  "nbformat_minor": 0,
  "metadata": {
    "colab": {
      "provenance": [],
      "collapsed_sections": []
    },
    "kernelspec": {
      "name": "python3",
      "display_name": "Python 3"
    },
    "language_info": {
      "name": "python"
    }
  },
  "cells": [
    {
      "cell_type": "code",
      "execution_count": null,
      "metadata": {
        "colab": {
          "base_uri": "https://localhost:8080/"
        },
        "id": "tLL7WCPia5iV",
        "outputId": "67e59f9f-b7c3-4ff0-928e-3eeff1ba8ac7"
      },
      "outputs": [
        {
          "output_type": "stream",
          "name": "stdout",
          "text": [
            "Drive already mounted at /content/drive; to attempt to forcibly remount, call drive.mount(\"/content/drive\", force_remount=True).\n"
          ]
        }
      ],
      "source": [
        "from google.colab import drive\n",
        "drive.mount('/content/drive')"
      ]
    },
    {
      "cell_type": "code",
      "source": [
        "pip install opendatasets"
      ],
      "metadata": {
        "colab": {
          "base_uri": "https://localhost:8080/"
        },
        "id": "WH8khcw_bmly",
        "outputId": "54df2d34-dc79-4bf3-f3a7-dc612ba11a51"
      },
      "execution_count": null,
      "outputs": [
        {
          "output_type": "stream",
          "name": "stdout",
          "text": [
            "Looking in indexes: https://pypi.org/simple, https://us-python.pkg.dev/colab-wheels/public/simple/\n",
            "Requirement already satisfied: opendatasets in /usr/local/lib/python3.7/dist-packages (0.1.22)\n",
            "Requirement already satisfied: kaggle in /usr/local/lib/python3.7/dist-packages (from opendatasets) (1.5.12)\n",
            "Requirement already satisfied: tqdm in /usr/local/lib/python3.7/dist-packages (from opendatasets) (4.64.1)\n",
            "Requirement already satisfied: click in /usr/local/lib/python3.7/dist-packages (from opendatasets) (7.1.2)\n",
            "Requirement already satisfied: python-slugify in /usr/local/lib/python3.7/dist-packages (from kaggle->opendatasets) (6.1.2)\n",
            "Requirement already satisfied: requests in /usr/local/lib/python3.7/dist-packages (from kaggle->opendatasets) (2.23.0)\n",
            "Requirement already satisfied: certifi in /usr/local/lib/python3.7/dist-packages (from kaggle->opendatasets) (2022.9.24)\n",
            "Requirement already satisfied: six>=1.10 in /usr/local/lib/python3.7/dist-packages (from kaggle->opendatasets) (1.15.0)\n",
            "Requirement already satisfied: urllib3 in /usr/local/lib/python3.7/dist-packages (from kaggle->opendatasets) (1.24.3)\n",
            "Requirement already satisfied: python-dateutil in /usr/local/lib/python3.7/dist-packages (from kaggle->opendatasets) (2.8.2)\n",
            "Requirement already satisfied: text-unidecode>=1.3 in /usr/local/lib/python3.7/dist-packages (from python-slugify->kaggle->opendatasets) (1.3)\n",
            "Requirement already satisfied: chardet<4,>=3.0.2 in /usr/local/lib/python3.7/dist-packages (from requests->kaggle->opendatasets) (3.0.4)\n",
            "Requirement already satisfied: idna<3,>=2.5 in /usr/local/lib/python3.7/dist-packages (from requests->kaggle->opendatasets) (2.10)\n"
          ]
        }
      ]
    },
    {
      "cell_type": "code",
      "source": [
        "import opendatasets\n",
        "\n",
        "opendatasets.download(\"https://www.kaggle.com/datasets/gaveshjain/ford-sentence-classifiaction-dataset?resource=download\")"
      ],
      "metadata": {
        "colab": {
          "base_uri": "https://localhost:8080/"
        },
        "id": "TGcRnJPYbu2o",
        "outputId": "07640d1c-e385-4b3e-a721-e99912542da0"
      },
      "execution_count": null,
      "outputs": [
        {
          "output_type": "stream",
          "name": "stdout",
          "text": [
            "Please provide your Kaggle credentials to download this dataset. Learn more: http://bit.ly/kaggle-creds\n",
            "Your Kaggle username: shreyamalraju\n",
            "Your Kaggle Key: ··········\n",
            "Downloading ford-sentence-classifiaction-dataset.zip to ./ford-sentence-classifiaction-dataset\n"
          ]
        },
        {
          "output_type": "stream",
          "name": "stderr",
          "text": [
            "100%|██████████| 2.92M/2.92M [00:00<00:00, 165MB/s]"
          ]
        },
        {
          "output_type": "stream",
          "name": "stdout",
          "text": [
            "\n"
          ]
        },
        {
          "output_type": "stream",
          "name": "stderr",
          "text": [
            "\n"
          ]
        }
      ]
    },
    {
      "cell_type": "code",
      "source": [
        "from pandas.io.parsers.readers import read_csv\n",
        "import pandas as pd\n",
        "\n",
        "data=read_csv(\"/content/ford-sentence-classification-dataset/train_data.csv\")\n",
        "data=pd.DataFrame(data)\n",
        "data.head()\n",
        "print(data.shape)\n"
      ],
      "metadata": {
        "colab": {
          "base_uri": "https://localhost:8080/"
        },
        "id": "31GAFv6MiIvN",
        "outputId": "624815ae-77df-4992-d8f6-965ad5ff7a4b"
      },
      "execution_count": null,
      "outputs": [
        {
          "output_type": "stream",
          "name": "stdout",
          "text": [
            "(60115, 4)\n"
          ]
        }
      ]
    },
    {
      "cell_type": "code",
      "source": [
        "data.head(20)"
      ],
      "metadata": {
        "colab": {
          "base_uri": "https://localhost:8080/",
          "height": 657
        },
        "id": "uNE5q_-NnIeO",
        "outputId": "7f31ed3d-86da-4540-bd89-5d2298985ebc"
      },
      "execution_count": null,
      "outputs": [
        {
          "output_type": "execute_result",
          "data": {
            "text/plain": [
              "    Unnamed: 0  Sentence_id  \\\n",
              "0            0  GERRES15609   \n",
              "1            1  PHERES15784   \n",
              "2            2  GERREQ10457   \n",
              "3            3  GERSKL27235   \n",
              "4            4  HONSSK18415   \n",
              "5            5   INDRES9494   \n",
              "6            6  HONRES51852   \n",
              "7            7  UAEREQ34683   \n",
              "8            8   UAEREQ4612   \n",
              "9            9  INDEDU42721   \n",
              "10          10  PHESSK15946   \n",
              "11          11  COGREQ33585   \n",
              "12          12  UAERES16715   \n",
              "13          13  INDSSK17509   \n",
              "14          14  PHERES52517   \n",
              "15          15  INDEXP21173   \n",
              "16          16   HONRES6412   \n",
              "17          17   COGSKL4552   \n",
              "18          18  UAEREQ51074   \n",
              "19          19  HONSSK20082   \n",
              "\n",
              "                                         New_Sentence            Type  \n",
              "0   Author and/or Review architecture/design and o...  Responsibility  \n",
              "1   Should be able to develop custom dynamic shape...  Responsibility  \n",
              "2   Experience in working crosslly with a  larger ...     Requirement  \n",
              "3   Previous business experience, including but no...           Skill  \n",
              "4          Delivering fast and right the first  time.       SoftSkill  \n",
              "5     Track  department expenses and capital budget .  Responsibility  \n",
              "6                          Meet  performance metrics.  Responsibility  \n",
              "7      YOU MUST HAVEBachelors degree  in Engineering.     Requirement  \n",
              "8   After COVID-19: Ability to travel to manufactu...     Requirement  \n",
              "9   Six Sigma qualification to  at least Green Bel...       Education  \n",
              "10  Good team player with strong communication  an...       SoftSkill  \n",
              "11  Ability  to routinely represent Manufacturing ...     Requirement  \n",
              "12  Understand product line market drivers and com...  Responsibility  \n",
              "13  Should  be an innovative, dynamic personality ...       SoftSkill  \n",
              "14  Identifies continuous improvement opportunitie...  Responsibility  \n",
              "15                      Working experience  >5 years.      Experience  \n",
              "16  Working with  Sales, Engineering and Business ...  Responsibility  \n",
              "17  Productivity solutions include a mix of produc...           Skill  \n",
              "18  Experience in Energy Storage & renewable energ...     Requirement  \n",
              "19  Demonstrated effective oral and written commun...       SoftSkill  "
            ],
            "text/html": [
              "\n",
              "  <div id=\"df-16ffa902-3142-41ef-826e-b81b2ee7dd3a\">\n",
              "    <div class=\"colab-df-container\">\n",
              "      <div>\n",
              "<style scoped>\n",
              "    .dataframe tbody tr th:only-of-type {\n",
              "        vertical-align: middle;\n",
              "    }\n",
              "\n",
              "    .dataframe tbody tr th {\n",
              "        vertical-align: top;\n",
              "    }\n",
              "\n",
              "    .dataframe thead th {\n",
              "        text-align: right;\n",
              "    }\n",
              "</style>\n",
              "<table border=\"1\" class=\"dataframe\">\n",
              "  <thead>\n",
              "    <tr style=\"text-align: right;\">\n",
              "      <th></th>\n",
              "      <th>Unnamed: 0</th>\n",
              "      <th>Sentence_id</th>\n",
              "      <th>New_Sentence</th>\n",
              "      <th>Type</th>\n",
              "    </tr>\n",
              "  </thead>\n",
              "  <tbody>\n",
              "    <tr>\n",
              "      <th>0</th>\n",
              "      <td>0</td>\n",
              "      <td>GERRES15609</td>\n",
              "      <td>Author and/or Review architecture/design and o...</td>\n",
              "      <td>Responsibility</td>\n",
              "    </tr>\n",
              "    <tr>\n",
              "      <th>1</th>\n",
              "      <td>1</td>\n",
              "      <td>PHERES15784</td>\n",
              "      <td>Should be able to develop custom dynamic shape...</td>\n",
              "      <td>Responsibility</td>\n",
              "    </tr>\n",
              "    <tr>\n",
              "      <th>2</th>\n",
              "      <td>2</td>\n",
              "      <td>GERREQ10457</td>\n",
              "      <td>Experience in working crosslly with a  larger ...</td>\n",
              "      <td>Requirement</td>\n",
              "    </tr>\n",
              "    <tr>\n",
              "      <th>3</th>\n",
              "      <td>3</td>\n",
              "      <td>GERSKL27235</td>\n",
              "      <td>Previous business experience, including but no...</td>\n",
              "      <td>Skill</td>\n",
              "    </tr>\n",
              "    <tr>\n",
              "      <th>4</th>\n",
              "      <td>4</td>\n",
              "      <td>HONSSK18415</td>\n",
              "      <td>Delivering fast and right the first  time.</td>\n",
              "      <td>SoftSkill</td>\n",
              "    </tr>\n",
              "    <tr>\n",
              "      <th>5</th>\n",
              "      <td>5</td>\n",
              "      <td>INDRES9494</td>\n",
              "      <td>Track  department expenses and capital budget .</td>\n",
              "      <td>Responsibility</td>\n",
              "    </tr>\n",
              "    <tr>\n",
              "      <th>6</th>\n",
              "      <td>6</td>\n",
              "      <td>HONRES51852</td>\n",
              "      <td>Meet  performance metrics.</td>\n",
              "      <td>Responsibility</td>\n",
              "    </tr>\n",
              "    <tr>\n",
              "      <th>7</th>\n",
              "      <td>7</td>\n",
              "      <td>UAEREQ34683</td>\n",
              "      <td>YOU MUST HAVEBachelors degree  in Engineering.</td>\n",
              "      <td>Requirement</td>\n",
              "    </tr>\n",
              "    <tr>\n",
              "      <th>8</th>\n",
              "      <td>8</td>\n",
              "      <td>UAEREQ4612</td>\n",
              "      <td>After COVID-19: Ability to travel to manufactu...</td>\n",
              "      <td>Requirement</td>\n",
              "    </tr>\n",
              "    <tr>\n",
              "      <th>9</th>\n",
              "      <td>9</td>\n",
              "      <td>INDEDU42721</td>\n",
              "      <td>Six Sigma qualification to  at least Green Bel...</td>\n",
              "      <td>Education</td>\n",
              "    </tr>\n",
              "    <tr>\n",
              "      <th>10</th>\n",
              "      <td>10</td>\n",
              "      <td>PHESSK15946</td>\n",
              "      <td>Good team player with strong communication  an...</td>\n",
              "      <td>SoftSkill</td>\n",
              "    </tr>\n",
              "    <tr>\n",
              "      <th>11</th>\n",
              "      <td>11</td>\n",
              "      <td>COGREQ33585</td>\n",
              "      <td>Ability  to routinely represent Manufacturing ...</td>\n",
              "      <td>Requirement</td>\n",
              "    </tr>\n",
              "    <tr>\n",
              "      <th>12</th>\n",
              "      <td>12</td>\n",
              "      <td>UAERES16715</td>\n",
              "      <td>Understand product line market drivers and com...</td>\n",
              "      <td>Responsibility</td>\n",
              "    </tr>\n",
              "    <tr>\n",
              "      <th>13</th>\n",
              "      <td>13</td>\n",
              "      <td>INDSSK17509</td>\n",
              "      <td>Should  be an innovative, dynamic personality ...</td>\n",
              "      <td>SoftSkill</td>\n",
              "    </tr>\n",
              "    <tr>\n",
              "      <th>14</th>\n",
              "      <td>14</td>\n",
              "      <td>PHERES52517</td>\n",
              "      <td>Identifies continuous improvement opportunitie...</td>\n",
              "      <td>Responsibility</td>\n",
              "    </tr>\n",
              "    <tr>\n",
              "      <th>15</th>\n",
              "      <td>15</td>\n",
              "      <td>INDEXP21173</td>\n",
              "      <td>Working experience  &gt;5 years.</td>\n",
              "      <td>Experience</td>\n",
              "    </tr>\n",
              "    <tr>\n",
              "      <th>16</th>\n",
              "      <td>16</td>\n",
              "      <td>HONRES6412</td>\n",
              "      <td>Working with  Sales, Engineering and Business ...</td>\n",
              "      <td>Responsibility</td>\n",
              "    </tr>\n",
              "    <tr>\n",
              "      <th>17</th>\n",
              "      <td>17</td>\n",
              "      <td>COGSKL4552</td>\n",
              "      <td>Productivity solutions include a mix of produc...</td>\n",
              "      <td>Skill</td>\n",
              "    </tr>\n",
              "    <tr>\n",
              "      <th>18</th>\n",
              "      <td>18</td>\n",
              "      <td>UAEREQ51074</td>\n",
              "      <td>Experience in Energy Storage &amp; renewable energ...</td>\n",
              "      <td>Requirement</td>\n",
              "    </tr>\n",
              "    <tr>\n",
              "      <th>19</th>\n",
              "      <td>19</td>\n",
              "      <td>HONSSK20082</td>\n",
              "      <td>Demonstrated effective oral and written commun...</td>\n",
              "      <td>SoftSkill</td>\n",
              "    </tr>\n",
              "  </tbody>\n",
              "</table>\n",
              "</div>\n",
              "      <button class=\"colab-df-convert\" onclick=\"convertToInteractive('df-16ffa902-3142-41ef-826e-b81b2ee7dd3a')\"\n",
              "              title=\"Convert this dataframe to an interactive table.\"\n",
              "              style=\"display:none;\">\n",
              "        \n",
              "  <svg xmlns=\"http://www.w3.org/2000/svg\" height=\"24px\"viewBox=\"0 0 24 24\"\n",
              "       width=\"24px\">\n",
              "    <path d=\"M0 0h24v24H0V0z\" fill=\"none\"/>\n",
              "    <path d=\"M18.56 5.44l.94 2.06.94-2.06 2.06-.94-2.06-.94-.94-2.06-.94 2.06-2.06.94zm-11 1L8.5 8.5l.94-2.06 2.06-.94-2.06-.94L8.5 2.5l-.94 2.06-2.06.94zm10 10l.94 2.06.94-2.06 2.06-.94-2.06-.94-.94-2.06-.94 2.06-2.06.94z\"/><path d=\"M17.41 7.96l-1.37-1.37c-.4-.4-.92-.59-1.43-.59-.52 0-1.04.2-1.43.59L10.3 9.45l-7.72 7.72c-.78.78-.78 2.05 0 2.83L4 21.41c.39.39.9.59 1.41.59.51 0 1.02-.2 1.41-.59l7.78-7.78 2.81-2.81c.8-.78.8-2.07 0-2.86zM5.41 20L4 18.59l7.72-7.72 1.47 1.35L5.41 20z\"/>\n",
              "  </svg>\n",
              "      </button>\n",
              "      \n",
              "  <style>\n",
              "    .colab-df-container {\n",
              "      display:flex;\n",
              "      flex-wrap:wrap;\n",
              "      gap: 12px;\n",
              "    }\n",
              "\n",
              "    .colab-df-convert {\n",
              "      background-color: #E8F0FE;\n",
              "      border: none;\n",
              "      border-radius: 50%;\n",
              "      cursor: pointer;\n",
              "      display: none;\n",
              "      fill: #1967D2;\n",
              "      height: 32px;\n",
              "      padding: 0 0 0 0;\n",
              "      width: 32px;\n",
              "    }\n",
              "\n",
              "    .colab-df-convert:hover {\n",
              "      background-color: #E2EBFA;\n",
              "      box-shadow: 0px 1px 2px rgba(60, 64, 67, 0.3), 0px 1px 3px 1px rgba(60, 64, 67, 0.15);\n",
              "      fill: #174EA6;\n",
              "    }\n",
              "\n",
              "    [theme=dark] .colab-df-convert {\n",
              "      background-color: #3B4455;\n",
              "      fill: #D2E3FC;\n",
              "    }\n",
              "\n",
              "    [theme=dark] .colab-df-convert:hover {\n",
              "      background-color: #434B5C;\n",
              "      box-shadow: 0px 1px 3px 1px rgba(0, 0, 0, 0.15);\n",
              "      filter: drop-shadow(0px 1px 2px rgba(0, 0, 0, 0.3));\n",
              "      fill: #FFFFFF;\n",
              "    }\n",
              "  </style>\n",
              "\n",
              "      <script>\n",
              "        const buttonEl =\n",
              "          document.querySelector('#df-16ffa902-3142-41ef-826e-b81b2ee7dd3a button.colab-df-convert');\n",
              "        buttonEl.style.display =\n",
              "          google.colab.kernel.accessAllowed ? 'block' : 'none';\n",
              "\n",
              "        async function convertToInteractive(key) {\n",
              "          const element = document.querySelector('#df-16ffa902-3142-41ef-826e-b81b2ee7dd3a');\n",
              "          const dataTable =\n",
              "            await google.colab.kernel.invokeFunction('convertToInteractive',\n",
              "                                                     [key], {});\n",
              "          if (!dataTable) return;\n",
              "\n",
              "          const docLinkHtml = 'Like what you see? Visit the ' +\n",
              "            '<a target=\"_blank\" href=https://colab.research.google.com/notebooks/data_table.ipynb>data table notebook</a>'\n",
              "            + ' to learn more about interactive tables.';\n",
              "          element.innerHTML = '';\n",
              "          dataTable['output_type'] = 'display_data';\n",
              "          await google.colab.output.renderOutput(dataTable, element);\n",
              "          const docLink = document.createElement('div');\n",
              "          docLink.innerHTML = docLinkHtml;\n",
              "          element.appendChild(docLink);\n",
              "        }\n",
              "      </script>\n",
              "    </div>\n",
              "  </div>\n",
              "  "
            ]
          },
          "metadata": {},
          "execution_count": 46
        }
      ]
    },
    {
      "cell_type": "code",
      "source": [
        "data.isnull().any()"
      ],
      "metadata": {
        "colab": {
          "base_uri": "https://localhost:8080/"
        },
        "id": "6APrXkhV2p0M",
        "outputId": "6f9a9abd-5533-4d48-b59c-1e1682608b27"
      },
      "execution_count": null,
      "outputs": [
        {
          "output_type": "execute_result",
          "data": {
            "text/plain": [
              "Unnamed: 0      False\n",
              "Sentence_id     False\n",
              "New_Sentence     True\n",
              "Type            False\n",
              "dtype: bool"
            ]
          },
          "metadata": {},
          "execution_count": 47
        }
      ]
    },
    {
      "cell_type": "code",
      "source": [
        "data.dropna(how=\"any\",axis=0,inplace=True)\n",
        "\n",
        "print(data.shape)\n",
        "data.isnull().any()"
      ],
      "metadata": {
        "colab": {
          "base_uri": "https://localhost:8080/"
        },
        "id": "-bhP5tGu363z",
        "outputId": "f5c28e7e-68a8-4918-eb61-bb323c9487a8"
      },
      "execution_count": null,
      "outputs": [
        {
          "output_type": "stream",
          "name": "stdout",
          "text": [
            "(59002, 4)\n"
          ]
        },
        {
          "output_type": "execute_result",
          "data": {
            "text/plain": [
              "Unnamed: 0      False\n",
              "Sentence_id     False\n",
              "New_Sentence    False\n",
              "Type            False\n",
              "dtype: bool"
            ]
          },
          "metadata": {},
          "execution_count": 48
        }
      ]
    },
    {
      "cell_type": "code",
      "source": [
        "src = data['Type'].unique()\n",
        "print(src)"
      ],
      "metadata": {
        "colab": {
          "base_uri": "https://localhost:8080/"
        },
        "id": "uzqXTZdM7Tws",
        "outputId": "761385b1-0411-46a6-a492-1d66d8a960df"
      },
      "execution_count": null,
      "outputs": [
        {
          "output_type": "stream",
          "name": "stdout",
          "text": [
            "['Responsibility' 'Requirement' 'Skill' 'SoftSkill' 'Education'\n",
            " 'Experience']\n"
          ]
        }
      ]
    },
    {
      "cell_type": "code",
      "source": [
        "data['TypeId'] = data['Type'].factorize()[0]\n",
        "data.head(30)"
      ],
      "metadata": {
        "colab": {
          "base_uri": "https://localhost:8080/",
          "height": 962
        },
        "id": "LMCEt5XI7ha4",
        "outputId": "a30f13c6-1a39-449e-dbf5-bc1c5b4f7ede"
      },
      "execution_count": null,
      "outputs": [
        {
          "output_type": "execute_result",
          "data": {
            "text/plain": [
              "    Unnamed: 0  Sentence_id  \\\n",
              "0            0  GERRES15609   \n",
              "1            1  PHERES15784   \n",
              "2            2  GERREQ10457   \n",
              "3            3  GERSKL27235   \n",
              "4            4  HONSSK18415   \n",
              "5            5   INDRES9494   \n",
              "6            6  HONRES51852   \n",
              "7            7  UAEREQ34683   \n",
              "8            8   UAEREQ4612   \n",
              "9            9  INDEDU42721   \n",
              "10          10  PHESSK15946   \n",
              "11          11  COGREQ33585   \n",
              "12          12  UAERES16715   \n",
              "13          13  INDSSK17509   \n",
              "14          14  PHERES52517   \n",
              "15          15  INDEXP21173   \n",
              "16          16   HONRES6412   \n",
              "17          17   COGSKL4552   \n",
              "18          18  UAEREQ51074   \n",
              "19          19  HONSSK20082   \n",
              "20          20  GERSKL23312   \n",
              "21          21  UAEREQ40290   \n",
              "22          22   HONEDU8098   \n",
              "23          23  GERSSK30162   \n",
              "24          24  INDEDU45986   \n",
              "25          25  INDEDU33016   \n",
              "26          26  HONRES10648   \n",
              "27          27  UAESSK28522   \n",
              "28          28   HONRES5690   \n",
              "29          29  PHEEXP10060   \n",
              "\n",
              "                                         New_Sentence            Type  TypeId  \n",
              "0   Author and/or Review architecture/design and o...  Responsibility       0  \n",
              "1   Should be able to develop custom dynamic shape...  Responsibility       0  \n",
              "2   Experience in working crosslly with a  larger ...     Requirement       1  \n",
              "3   Previous business experience, including but no...           Skill       2  \n",
              "4          Delivering fast and right the first  time.       SoftSkill       3  \n",
              "5     Track  department expenses and capital budget .  Responsibility       0  \n",
              "6                          Meet  performance metrics.  Responsibility       0  \n",
              "7      YOU MUST HAVEBachelors degree  in Engineering.     Requirement       1  \n",
              "8   After COVID-19: Ability to travel to manufactu...     Requirement       1  \n",
              "9   Six Sigma qualification to  at least Green Bel...       Education       4  \n",
              "10  Good team player with strong communication  an...       SoftSkill       3  \n",
              "11  Ability  to routinely represent Manufacturing ...     Requirement       1  \n",
              "12  Understand product line market drivers and com...  Responsibility       0  \n",
              "13  Should  be an innovative, dynamic personality ...       SoftSkill       3  \n",
              "14  Identifies continuous improvement opportunitie...  Responsibility       0  \n",
              "15                      Working experience  >5 years.      Experience       5  \n",
              "16  Working with  Sales, Engineering and Business ...  Responsibility       0  \n",
              "17  Productivity solutions include a mix of produc...           Skill       2  \n",
              "18  Experience in Energy Storage & renewable energ...     Requirement       1  \n",
              "19  Demonstrated effective oral and written commun...       SoftSkill       3  \n",
              "20  Previous experience on Low Voltage systems (Ac...           Skill       2  \n",
              "21  Experiencia en sector  automotriz o aeroespaci...     Requirement       1  \n",
              "22  Bachelors degree in a related subject,  MBA wo...       Education       4  \n",
              "23       Demonstrated  classroom facilitation skills.       SoftSkill       3  \n",
              "24  BE/B.Tech or M.E/M.Tech or  PhD with minimum 1...       Education       4  \n",
              "25            MBA Degree in  Finance and/or Business.       Education       4  \n",
              "26  Service Offering Leader will be accountable fo...  Responsibility       0  \n",
              "27  Ability to influence across  and up in the org...       SoftSkill       3  \n",
              "28  Design a  simulation strategies using the skil...  Responsibility       0  \n",
              "29  Minimum of 6  years HR experience of which 4 y...      Experience       5  "
            ],
            "text/html": [
              "\n",
              "  <div id=\"df-b6b3a6c6-35d7-4887-9e49-d693be7bba6e\">\n",
              "    <div class=\"colab-df-container\">\n",
              "      <div>\n",
              "<style scoped>\n",
              "    .dataframe tbody tr th:only-of-type {\n",
              "        vertical-align: middle;\n",
              "    }\n",
              "\n",
              "    .dataframe tbody tr th {\n",
              "        vertical-align: top;\n",
              "    }\n",
              "\n",
              "    .dataframe thead th {\n",
              "        text-align: right;\n",
              "    }\n",
              "</style>\n",
              "<table border=\"1\" class=\"dataframe\">\n",
              "  <thead>\n",
              "    <tr style=\"text-align: right;\">\n",
              "      <th></th>\n",
              "      <th>Unnamed: 0</th>\n",
              "      <th>Sentence_id</th>\n",
              "      <th>New_Sentence</th>\n",
              "      <th>Type</th>\n",
              "      <th>TypeId</th>\n",
              "    </tr>\n",
              "  </thead>\n",
              "  <tbody>\n",
              "    <tr>\n",
              "      <th>0</th>\n",
              "      <td>0</td>\n",
              "      <td>GERRES15609</td>\n",
              "      <td>Author and/or Review architecture/design and o...</td>\n",
              "      <td>Responsibility</td>\n",
              "      <td>0</td>\n",
              "    </tr>\n",
              "    <tr>\n",
              "      <th>1</th>\n",
              "      <td>1</td>\n",
              "      <td>PHERES15784</td>\n",
              "      <td>Should be able to develop custom dynamic shape...</td>\n",
              "      <td>Responsibility</td>\n",
              "      <td>0</td>\n",
              "    </tr>\n",
              "    <tr>\n",
              "      <th>2</th>\n",
              "      <td>2</td>\n",
              "      <td>GERREQ10457</td>\n",
              "      <td>Experience in working crosslly with a  larger ...</td>\n",
              "      <td>Requirement</td>\n",
              "      <td>1</td>\n",
              "    </tr>\n",
              "    <tr>\n",
              "      <th>3</th>\n",
              "      <td>3</td>\n",
              "      <td>GERSKL27235</td>\n",
              "      <td>Previous business experience, including but no...</td>\n",
              "      <td>Skill</td>\n",
              "      <td>2</td>\n",
              "    </tr>\n",
              "    <tr>\n",
              "      <th>4</th>\n",
              "      <td>4</td>\n",
              "      <td>HONSSK18415</td>\n",
              "      <td>Delivering fast and right the first  time.</td>\n",
              "      <td>SoftSkill</td>\n",
              "      <td>3</td>\n",
              "    </tr>\n",
              "    <tr>\n",
              "      <th>5</th>\n",
              "      <td>5</td>\n",
              "      <td>INDRES9494</td>\n",
              "      <td>Track  department expenses and capital budget .</td>\n",
              "      <td>Responsibility</td>\n",
              "      <td>0</td>\n",
              "    </tr>\n",
              "    <tr>\n",
              "      <th>6</th>\n",
              "      <td>6</td>\n",
              "      <td>HONRES51852</td>\n",
              "      <td>Meet  performance metrics.</td>\n",
              "      <td>Responsibility</td>\n",
              "      <td>0</td>\n",
              "    </tr>\n",
              "    <tr>\n",
              "      <th>7</th>\n",
              "      <td>7</td>\n",
              "      <td>UAEREQ34683</td>\n",
              "      <td>YOU MUST HAVEBachelors degree  in Engineering.</td>\n",
              "      <td>Requirement</td>\n",
              "      <td>1</td>\n",
              "    </tr>\n",
              "    <tr>\n",
              "      <th>8</th>\n",
              "      <td>8</td>\n",
              "      <td>UAEREQ4612</td>\n",
              "      <td>After COVID-19: Ability to travel to manufactu...</td>\n",
              "      <td>Requirement</td>\n",
              "      <td>1</td>\n",
              "    </tr>\n",
              "    <tr>\n",
              "      <th>9</th>\n",
              "      <td>9</td>\n",
              "      <td>INDEDU42721</td>\n",
              "      <td>Six Sigma qualification to  at least Green Bel...</td>\n",
              "      <td>Education</td>\n",
              "      <td>4</td>\n",
              "    </tr>\n",
              "    <tr>\n",
              "      <th>10</th>\n",
              "      <td>10</td>\n",
              "      <td>PHESSK15946</td>\n",
              "      <td>Good team player with strong communication  an...</td>\n",
              "      <td>SoftSkill</td>\n",
              "      <td>3</td>\n",
              "    </tr>\n",
              "    <tr>\n",
              "      <th>11</th>\n",
              "      <td>11</td>\n",
              "      <td>COGREQ33585</td>\n",
              "      <td>Ability  to routinely represent Manufacturing ...</td>\n",
              "      <td>Requirement</td>\n",
              "      <td>1</td>\n",
              "    </tr>\n",
              "    <tr>\n",
              "      <th>12</th>\n",
              "      <td>12</td>\n",
              "      <td>UAERES16715</td>\n",
              "      <td>Understand product line market drivers and com...</td>\n",
              "      <td>Responsibility</td>\n",
              "      <td>0</td>\n",
              "    </tr>\n",
              "    <tr>\n",
              "      <th>13</th>\n",
              "      <td>13</td>\n",
              "      <td>INDSSK17509</td>\n",
              "      <td>Should  be an innovative, dynamic personality ...</td>\n",
              "      <td>SoftSkill</td>\n",
              "      <td>3</td>\n",
              "    </tr>\n",
              "    <tr>\n",
              "      <th>14</th>\n",
              "      <td>14</td>\n",
              "      <td>PHERES52517</td>\n",
              "      <td>Identifies continuous improvement opportunitie...</td>\n",
              "      <td>Responsibility</td>\n",
              "      <td>0</td>\n",
              "    </tr>\n",
              "    <tr>\n",
              "      <th>15</th>\n",
              "      <td>15</td>\n",
              "      <td>INDEXP21173</td>\n",
              "      <td>Working experience  &gt;5 years.</td>\n",
              "      <td>Experience</td>\n",
              "      <td>5</td>\n",
              "    </tr>\n",
              "    <tr>\n",
              "      <th>16</th>\n",
              "      <td>16</td>\n",
              "      <td>HONRES6412</td>\n",
              "      <td>Working with  Sales, Engineering and Business ...</td>\n",
              "      <td>Responsibility</td>\n",
              "      <td>0</td>\n",
              "    </tr>\n",
              "    <tr>\n",
              "      <th>17</th>\n",
              "      <td>17</td>\n",
              "      <td>COGSKL4552</td>\n",
              "      <td>Productivity solutions include a mix of produc...</td>\n",
              "      <td>Skill</td>\n",
              "      <td>2</td>\n",
              "    </tr>\n",
              "    <tr>\n",
              "      <th>18</th>\n",
              "      <td>18</td>\n",
              "      <td>UAEREQ51074</td>\n",
              "      <td>Experience in Energy Storage &amp; renewable energ...</td>\n",
              "      <td>Requirement</td>\n",
              "      <td>1</td>\n",
              "    </tr>\n",
              "    <tr>\n",
              "      <th>19</th>\n",
              "      <td>19</td>\n",
              "      <td>HONSSK20082</td>\n",
              "      <td>Demonstrated effective oral and written commun...</td>\n",
              "      <td>SoftSkill</td>\n",
              "      <td>3</td>\n",
              "    </tr>\n",
              "    <tr>\n",
              "      <th>20</th>\n",
              "      <td>20</td>\n",
              "      <td>GERSKL23312</td>\n",
              "      <td>Previous experience on Low Voltage systems (Ac...</td>\n",
              "      <td>Skill</td>\n",
              "      <td>2</td>\n",
              "    </tr>\n",
              "    <tr>\n",
              "      <th>21</th>\n",
              "      <td>21</td>\n",
              "      <td>UAEREQ40290</td>\n",
              "      <td>Experiencia en sector  automotriz o aeroespaci...</td>\n",
              "      <td>Requirement</td>\n",
              "      <td>1</td>\n",
              "    </tr>\n",
              "    <tr>\n",
              "      <th>22</th>\n",
              "      <td>22</td>\n",
              "      <td>HONEDU8098</td>\n",
              "      <td>Bachelors degree in a related subject,  MBA wo...</td>\n",
              "      <td>Education</td>\n",
              "      <td>4</td>\n",
              "    </tr>\n",
              "    <tr>\n",
              "      <th>23</th>\n",
              "      <td>23</td>\n",
              "      <td>GERSSK30162</td>\n",
              "      <td>Demonstrated  classroom facilitation skills.</td>\n",
              "      <td>SoftSkill</td>\n",
              "      <td>3</td>\n",
              "    </tr>\n",
              "    <tr>\n",
              "      <th>24</th>\n",
              "      <td>24</td>\n",
              "      <td>INDEDU45986</td>\n",
              "      <td>BE/B.Tech or M.E/M.Tech or  PhD with minimum 1...</td>\n",
              "      <td>Education</td>\n",
              "      <td>4</td>\n",
              "    </tr>\n",
              "    <tr>\n",
              "      <th>25</th>\n",
              "      <td>25</td>\n",
              "      <td>INDEDU33016</td>\n",
              "      <td>MBA Degree in  Finance and/or Business.</td>\n",
              "      <td>Education</td>\n",
              "      <td>4</td>\n",
              "    </tr>\n",
              "    <tr>\n",
              "      <th>26</th>\n",
              "      <td>26</td>\n",
              "      <td>HONRES10648</td>\n",
              "      <td>Service Offering Leader will be accountable fo...</td>\n",
              "      <td>Responsibility</td>\n",
              "      <td>0</td>\n",
              "    </tr>\n",
              "    <tr>\n",
              "      <th>27</th>\n",
              "      <td>27</td>\n",
              "      <td>UAESSK28522</td>\n",
              "      <td>Ability to influence across  and up in the org...</td>\n",
              "      <td>SoftSkill</td>\n",
              "      <td>3</td>\n",
              "    </tr>\n",
              "    <tr>\n",
              "      <th>28</th>\n",
              "      <td>28</td>\n",
              "      <td>HONRES5690</td>\n",
              "      <td>Design a  simulation strategies using the skil...</td>\n",
              "      <td>Responsibility</td>\n",
              "      <td>0</td>\n",
              "    </tr>\n",
              "    <tr>\n",
              "      <th>29</th>\n",
              "      <td>29</td>\n",
              "      <td>PHEEXP10060</td>\n",
              "      <td>Minimum of 6  years HR experience of which 4 y...</td>\n",
              "      <td>Experience</td>\n",
              "      <td>5</td>\n",
              "    </tr>\n",
              "  </tbody>\n",
              "</table>\n",
              "</div>\n",
              "      <button class=\"colab-df-convert\" onclick=\"convertToInteractive('df-b6b3a6c6-35d7-4887-9e49-d693be7bba6e')\"\n",
              "              title=\"Convert this dataframe to an interactive table.\"\n",
              "              style=\"display:none;\">\n",
              "        \n",
              "  <svg xmlns=\"http://www.w3.org/2000/svg\" height=\"24px\"viewBox=\"0 0 24 24\"\n",
              "       width=\"24px\">\n",
              "    <path d=\"M0 0h24v24H0V0z\" fill=\"none\"/>\n",
              "    <path d=\"M18.56 5.44l.94 2.06.94-2.06 2.06-.94-2.06-.94-.94-2.06-.94 2.06-2.06.94zm-11 1L8.5 8.5l.94-2.06 2.06-.94-2.06-.94L8.5 2.5l-.94 2.06-2.06.94zm10 10l.94 2.06.94-2.06 2.06-.94-2.06-.94-.94-2.06-.94 2.06-2.06.94z\"/><path d=\"M17.41 7.96l-1.37-1.37c-.4-.4-.92-.59-1.43-.59-.52 0-1.04.2-1.43.59L10.3 9.45l-7.72 7.72c-.78.78-.78 2.05 0 2.83L4 21.41c.39.39.9.59 1.41.59.51 0 1.02-.2 1.41-.59l7.78-7.78 2.81-2.81c.8-.78.8-2.07 0-2.86zM5.41 20L4 18.59l7.72-7.72 1.47 1.35L5.41 20z\"/>\n",
              "  </svg>\n",
              "      </button>\n",
              "      \n",
              "  <style>\n",
              "    .colab-df-container {\n",
              "      display:flex;\n",
              "      flex-wrap:wrap;\n",
              "      gap: 12px;\n",
              "    }\n",
              "\n",
              "    .colab-df-convert {\n",
              "      background-color: #E8F0FE;\n",
              "      border: none;\n",
              "      border-radius: 50%;\n",
              "      cursor: pointer;\n",
              "      display: none;\n",
              "      fill: #1967D2;\n",
              "      height: 32px;\n",
              "      padding: 0 0 0 0;\n",
              "      width: 32px;\n",
              "    }\n",
              "\n",
              "    .colab-df-convert:hover {\n",
              "      background-color: #E2EBFA;\n",
              "      box-shadow: 0px 1px 2px rgba(60, 64, 67, 0.3), 0px 1px 3px 1px rgba(60, 64, 67, 0.15);\n",
              "      fill: #174EA6;\n",
              "    }\n",
              "\n",
              "    [theme=dark] .colab-df-convert {\n",
              "      background-color: #3B4455;\n",
              "      fill: #D2E3FC;\n",
              "    }\n",
              "\n",
              "    [theme=dark] .colab-df-convert:hover {\n",
              "      background-color: #434B5C;\n",
              "      box-shadow: 0px 1px 3px 1px rgba(0, 0, 0, 0.15);\n",
              "      filter: drop-shadow(0px 1px 2px rgba(0, 0, 0, 0.3));\n",
              "      fill: #FFFFFF;\n",
              "    }\n",
              "  </style>\n",
              "\n",
              "      <script>\n",
              "        const buttonEl =\n",
              "          document.querySelector('#df-b6b3a6c6-35d7-4887-9e49-d693be7bba6e button.colab-df-convert');\n",
              "        buttonEl.style.display =\n",
              "          google.colab.kernel.accessAllowed ? 'block' : 'none';\n",
              "\n",
              "        async function convertToInteractive(key) {\n",
              "          const element = document.querySelector('#df-b6b3a6c6-35d7-4887-9e49-d693be7bba6e');\n",
              "          const dataTable =\n",
              "            await google.colab.kernel.invokeFunction('convertToInteractive',\n",
              "                                                     [key], {});\n",
              "          if (!dataTable) return;\n",
              "\n",
              "          const docLinkHtml = 'Like what you see? Visit the ' +\n",
              "            '<a target=\"_blank\" href=https://colab.research.google.com/notebooks/data_table.ipynb>data table notebook</a>'\n",
              "            + ' to learn more about interactive tables.';\n",
              "          element.innerHTML = '';\n",
              "          dataTable['output_type'] = 'display_data';\n",
              "          await google.colab.output.renderOutput(dataTable, element);\n",
              "          const docLink = document.createElement('div');\n",
              "          docLink.innerHTML = docLinkHtml;\n",
              "          element.appendChild(docLink);\n",
              "        }\n",
              "      </script>\n",
              "    </div>\n",
              "  </div>\n",
              "  "
            ]
          },
          "metadata": {},
          "execution_count": 50
        }
      ]
    },
    {
      "cell_type": "code",
      "source": [
        "train_split=int(0.8*len(data))\n",
        "test_split=int(0.9*len(data))\n",
        "\n",
        "train_set=data[:train_split]\n",
        "dev_set=data[train_split:test_split]\n",
        "test_set=data[test_split:]"
      ],
      "metadata": {
        "id": "D6rLK1iBfQDN"
      },
      "execution_count": null,
      "outputs": []
    },
    {
      "cell_type": "code",
      "source": [
        "train_set_len = len(train_set)\n",
        "print('Total train records:', train_set_len)\n",
        "\n",
        "trainset_Responsibility_len = len(train_set[train_set['TypeId'] == 0])\n",
        "trainset_Requirement_len = len(train_set[train_set['TypeId'] == 1])\n",
        "trainset_Skill_len = len(train_set[train_set['TypeId'] == 2])\n",
        "trainset_SoftSkill_len = len(train_set[train_set['TypeId'] == 3])\n",
        "trainset_Education_len = len(train_set[train_set['TypeId'] == 4])\n",
        "trainset_Experience_len = len(train_set[train_set['TypeId'] == 5])\n",
        "\n",
        "Responsibility_train_set = trainset_Responsibility_len / train_set_len\n",
        "Requirement_train_set = trainset_Requirement_len / train_set_len\n",
        "Skill_train_set = trainset_Skill_len / train_set_len\n",
        "SoftSkill_train_set = trainset_SoftSkill_len / train_set_len\n",
        "Education_train_set = trainset_Education_len / train_set_len\n",
        "Experience_train_set = trainset_Experience_len / train_set_len\n",
        "\n",
        "print()\n",
        "print ('Responsibility records:', trainset_Responsibility_len)\n",
        "print ('Requirement records:', trainset_Requirement_len)\n",
        "print ('Skill records:', trainset_Skill_len)\n",
        "print ('SoftSkill records:', trainset_SoftSkill_len)\n",
        "print ('Education records:', trainset_Education_len)\n",
        "print ('Experience records:', trainset_Experience_len)\n",
        "print()\n",
        "print ('probability of Responsibility  records:', Responsibility_train_set)\n",
        "print ('probability of Requirement records:', Requirement_train_set)\n",
        "print ('probability of Skill records:', Skill_train_set)\n",
        "print ('probability of SoftSkill records:', SoftSkill_train_set)\n",
        "print ('probability of Education records:',Education_train_set )\n",
        "print ('probability of Experience records:',Experience_train_set )\n",
        "print()\n",
        "print('Total dev records:', len(dev_set))\n",
        "print('Total test records:', len(test_set))"
      ],
      "metadata": {
        "colab": {
          "base_uri": "https://localhost:8080/"
        },
        "id": "JW2C70AvLXEs",
        "outputId": "a418249e-cd8b-4926-b590-c594b371b256"
      },
      "execution_count": null,
      "outputs": [
        {
          "output_type": "stream",
          "name": "stdout",
          "text": [
            "Total train records: 47201\n",
            "\n",
            "Responsibility records: 12221\n",
            "Requirement records: 11077\n",
            "Skill records: 5450\n",
            "SoftSkill records: 7536\n",
            "Education records: 3666\n",
            "Experience records: 7251\n",
            "\n",
            "probability of Responsibility  records: 0.2589140060591937\n",
            "probability of Requirement records: 0.23467723141458868\n",
            "probability of Skill records: 0.115463655431029\n",
            "probability of SoftSkill records: 0.15965763437215313\n",
            "probability of Education records: 0.07766784602021144\n",
            "probability of Experience records: 0.15361962670282409\n",
            "\n",
            "Total dev records: 5900\n",
            "Total test records: 5901\n"
          ]
        }
      ]
    },
    {
      "cell_type": "code",
      "source": [
        "train_set.shape\n"
      ],
      "metadata": {
        "colab": {
          "base_uri": "https://localhost:8080/"
        },
        "id": "7dkiVneoiflV",
        "outputId": "06380405-c155-4e0a-be00-98c2b98d0144"
      },
      "execution_count": null,
      "outputs": [
        {
          "output_type": "execute_result",
          "data": {
            "text/plain": [
              "(47201, 5)"
            ]
          },
          "metadata": {},
          "execution_count": 53
        }
      ]
    },
    {
      "cell_type": "code",
      "source": [
        "document_len = len(train_set)\n",
        "print(document_len)"
      ],
      "metadata": {
        "colab": {
          "base_uri": "https://localhost:8080/"
        },
        "id": "Wgn2M-vpJwH4",
        "outputId": "fc4b0942-68b3-4ae4-cdc9-b5e6a6d7c6a0"
      },
      "execution_count": null,
      "outputs": [
        {
          "output_type": "stream",
          "name": "stdout",
          "text": [
            "47201\n"
          ]
        }
      ]
    },
    {
      "cell_type": "code",
      "source": [
        "dev_set.shape"
      ],
      "metadata": {
        "colab": {
          "base_uri": "https://localhost:8080/"
        },
        "id": "ASw_Ny4Cig0B",
        "outputId": "204c7da6-0208-4bfb-b572-fff1a1dcd42b"
      },
      "execution_count": null,
      "outputs": [
        {
          "output_type": "execute_result",
          "data": {
            "text/plain": [
              "(5900, 5)"
            ]
          },
          "metadata": {},
          "execution_count": 55
        }
      ]
    },
    {
      "cell_type": "code",
      "source": [
        "test_set.shape"
      ],
      "metadata": {
        "colab": {
          "base_uri": "https://localhost:8080/"
        },
        "id": "eDipkd2bikOg",
        "outputId": "a91b79ab-d807-4467-dcae-d6cf021f6c2c"
      },
      "execution_count": null,
      "outputs": [
        {
          "output_type": "execute_result",
          "data": {
            "text/plain": [
              "(5901, 5)"
            ]
          },
          "metadata": {},
          "execution_count": 56
        }
      ]
    },
    {
      "cell_type": "code",
      "source": [
        "train_set.columns = train_set.columns.str.strip()         \n",
        "train_set.columns = train_set.columns.str.replace(r\"[^a-zA-Z\\d\\_]+\", \"\")    \n",
        "train_set.columns = train_set.columns.str.replace(r\"[^a-zA-Z\\d\\_]+\", \"\")\n",
        "train_set.columns = train_set.columns.str.replace(r\"[^a-zA-Z\\d\\_]+\", \"\")\n",
        "train_set.columns = train_set.columns.str.replace(r\"[^a-zA-Z\\d\\_]+\", \"\")\n",
        "\n",
        "dev_set.columns = dev_set.columns.str.strip()         \n",
        "dev_set.columns = dev_set.columns.str.replace(r\"[^a-zA-Z\\d\\_]+\", \"\")    \n",
        "dev_set.columns = dev_set.columns.str.replace(r\"[^a-zA-Z\\d\\_]+\", \"\")\n",
        "dev_set.columns = dev_set.columns.str.replace(r\"[^a-zA-Z\\d\\_]+\", \"\")\n",
        "dev_set.columns = dev_set.columns.str.replace(r\"[^a-zA-Z\\d\\_]+\", \"\")\n",
        "\n",
        "test_set.columns = test_set.columns.str.strip()         \n",
        "test_set.columns = test_set.columns.str.replace(r\"[^a-zA-Z\\d\\_]+\", \"\")    \n",
        "test_set.columns = test_set.columns.str.replace(r\"[^a-zA-Z\\d\\_]+\", \"\")\n",
        "test_set.columns = test_set.columns.str.replace(r\"[^a-zA-Z\\d\\_]+\", \"\")\n",
        "test_set.columns = test_set.columns.str.replace(r\"[^a-zA-Z\\d\\_]+\", \"\")\n",
        "\n",
        "train_set = train_set.replace([\"1\",\"2\",\"3\",\"4\",\"5\",\"6\",\"7\",\"8\",\"9\",\"0\",\"~\",\";\",\":\",\"=\",\"\\+\",\"<\", \">\", \"\\?\", \"!\", \"\\\\\\\\\", \"@\", \"#\", \"$\", \"\\*\", \"%\", \",\", \"\\.\", \"\\(\", \"\\)\", \"\\[\", \"\\]\", \"\\{\", \"\\}\", \"\\\"\", \"/br\"], \"\", regex = True)\n",
        "dev_set = dev_set.replace([\"1\",\"2\",\"3\",\"4\",\"5\",\"6\",\"7\",\"8\",\"9\",\"0\",\"~\",\";\",\":\",\"=\",\"\\+\",\"<\", \">\", \"\\?\", \"!\", \"\\\\\\\\\", \"@\", \"#\", \"$\", \"\\*\", \"%\", \",\", \"\\.\", \"\\(\", \"\\)\", \"\\[\", \"\\]\", \"\\{\", \"\\}\", \"\\\"\", \"/br\"], \"\", regex = True)\n",
        "test_set = test_set.replace([\"1\",\"2\",\"3\",\"4\",\"5\",\"6\",\"7\",\"8\",\"9\",\"0\",\"~\",\";\",\":\",\"=\",\"\\+\",\"<\", \">\", \"\\?\", \"!\", \"\\\\\\\\\", \"@\", \"#\", \"$\", \"\\*\", \"%\", \",\", \"\\.\", \"\\(\", \"\\)\", \"\\[\", \"\\]\", \"\\{\", \"\\}\", \"\\\"\", \"/br\"], \"\", regex = True)\n",
        "\n",
        "train_set = train_set.replace([\"' \", \" '\",\"/\",\"-\"], \" \", regex = True)\n",
        "\n",
        "dev_set = dev_set.replace([\"' \", \" '\",\"/\",\"-\"], \" \", regex = True)\n",
        "\n",
        "test_set = test_set.replace([\"' \", \" '\",\"/\",\"-\"], \" \", regex = True)\n"
      ],
      "metadata": {
        "colab": {
          "base_uri": "https://localhost:8080/"
        },
        "id": "crh6mcdHiufT",
        "outputId": "8d89bc7a-694d-4e20-e3e8-2f2f92e898d2"
      },
      "execution_count": null,
      "outputs": [
        {
          "output_type": "stream",
          "name": "stderr",
          "text": [
            "/usr/local/lib/python3.7/dist-packages/ipykernel_launcher.py:2: FutureWarning: The default value of regex will change from True to False in a future version.\n",
            "  \n",
            "/usr/local/lib/python3.7/dist-packages/ipykernel_launcher.py:3: FutureWarning: The default value of regex will change from True to False in a future version.\n",
            "  This is separate from the ipykernel package so we can avoid doing imports until\n",
            "/usr/local/lib/python3.7/dist-packages/ipykernel_launcher.py:4: FutureWarning: The default value of regex will change from True to False in a future version.\n",
            "  after removing the cwd from sys.path.\n",
            "/usr/local/lib/python3.7/dist-packages/ipykernel_launcher.py:5: FutureWarning: The default value of regex will change from True to False in a future version.\n",
            "  \"\"\"\n",
            "/usr/local/lib/python3.7/dist-packages/ipykernel_launcher.py:8: FutureWarning: The default value of regex will change from True to False in a future version.\n",
            "  \n",
            "/usr/local/lib/python3.7/dist-packages/ipykernel_launcher.py:9: FutureWarning: The default value of regex will change from True to False in a future version.\n",
            "  if __name__ == '__main__':\n",
            "/usr/local/lib/python3.7/dist-packages/ipykernel_launcher.py:10: FutureWarning: The default value of regex will change from True to False in a future version.\n",
            "  # Remove the CWD from sys.path while we load stuff.\n",
            "/usr/local/lib/python3.7/dist-packages/ipykernel_launcher.py:11: FutureWarning: The default value of regex will change from True to False in a future version.\n",
            "  # This is added back by InteractiveShellApp.init_path()\n",
            "/usr/local/lib/python3.7/dist-packages/ipykernel_launcher.py:14: FutureWarning: The default value of regex will change from True to False in a future version.\n",
            "  \n",
            "/usr/local/lib/python3.7/dist-packages/ipykernel_launcher.py:15: FutureWarning: The default value of regex will change from True to False in a future version.\n",
            "  from ipykernel import kernelapp as app\n",
            "/usr/local/lib/python3.7/dist-packages/ipykernel_launcher.py:16: FutureWarning: The default value of regex will change from True to False in a future version.\n",
            "  app.launch_new_instance()\n",
            "/usr/local/lib/python3.7/dist-packages/ipykernel_launcher.py:17: FutureWarning: The default value of regex will change from True to False in a future version.\n"
          ]
        }
      ]
    },
    {
      "cell_type": "code",
      "source": [
        "data.Type.unique(),data.TypeId.unique()"
      ],
      "metadata": {
        "colab": {
          "base_uri": "https://localhost:8080/"
        },
        "id": "jYrYY8NAjTwP",
        "outputId": "9663550d-df2e-4a2d-a615-8cea6bd6816f"
      },
      "execution_count": null,
      "outputs": [
        {
          "output_type": "execute_result",
          "data": {
            "text/plain": [
              "(array(['Responsibility', 'Requirement', 'Skill', 'SoftSkill', 'Education',\n",
              "        'Experience'], dtype=object), array([0, 1, 2, 3, 4, 5]))"
            ]
          },
          "metadata": {},
          "execution_count": 58
        }
      ]
    },
    {
      "cell_type": "code",
      "source": [
        "word_repetation = dict()\n",
        "word_repetation_Responsibility = dict()\n",
        "word_repetation_Requirement = dict()\n",
        "word_repetation_Skill = dict()\n",
        "word_repetation_SoftSkill = dict()\n",
        "word_repetation_Education = dict()\n",
        "word_repetation_Experience = dict()\n",
        "\n",
        "for ind in train_set.index:\n",
        "\n",
        "  reviewSet = set(train_set['New_Sentence'][ind].lower().split())\n",
        "  for word in reviewSet:\n",
        "      if word in word_repetation:\n",
        "          word_repetation[word] += 1\n",
        "      else:\n",
        "          word_repetation[word] = 1\n",
        "        \n",
        "      if train_set['TypeId'][ind] == 0:\n",
        "\n",
        "          if word in word_repetation_Responsibility:\n",
        "              word_repetation_Responsibility[word] += 1\n",
        "          else:\n",
        "              word_repetation_Responsibility[word] = 1\n",
        "\n",
        "      elif train_set['TypeId'][ind] == 1:\n",
        "          if word in word_repetation_Requirement:\n",
        "              word_repetation_Requirement[word] += 1\n",
        "          else:\n",
        "              word_repetation_Requirement[word] = 1\n",
        "\n",
        "      elif train_set['TypeId'][ind] == 2:\n",
        "        if word in word_repetation_Skill:\n",
        "          word_repetation_Skill[word] +=1\n",
        "        else:\n",
        "          word_repetation_Skill[word] =1\n",
        "        \n",
        "      elif train_set['TypeId'][ind] == 3:\n",
        "        if word in word_repetation_SoftSkill:\n",
        "          word_repetation_SoftSkill[word] +=1\n",
        "        else:\n",
        "          word_repetation_SoftSkill[word] =1\n",
        "        \n",
        "      elif train_set['TypeId'][ind] == 4:\n",
        "        if word in word_repetation_Education:\n",
        "          word_repetation_Education[word] +=1\n",
        "        else:\n",
        "          word_repetation_Education[word] =1\n",
        "\n",
        "      elif train_set['TypeId'][ind] == 5:\n",
        "        if word in word_repetation_Experience:\n",
        "          word_repetation_Experience[word] +=1\n",
        "        else:\n",
        "          word_repetation_Experience[word] =1\n"
      ],
      "metadata": {
        "id": "tk-IJ2YGA6Qg"
      },
      "execution_count": null,
      "outputs": []
    },
    {
      "cell_type": "code",
      "source": [
        "finalVocabulary = dict()\n",
        "finalVocabulary_Responsibility = dict()\n",
        "finalVocabulary_Requirement = dict()\n",
        "finalVocabulary_Skill = dict()\n",
        "finalVocabulary_SoftSkill = dict()\n",
        "finalVocabulary_Education = dict()\n",
        "finalVocabulary_Experience = dict()\n",
        "\n",
        "for word in word_repetation:\n",
        "    if word_repetation[word] > 5:\n",
        "        finalVocabulary[word] = word_repetation[word]\n",
        "\n",
        "    if word in word_repetation_Responsibility:\n",
        "        if word_repetation_Responsibility[word] > 5:\n",
        "            finalVocabulary_Responsibility[word] = word_repetation_Responsibility[word]\n",
        "\n",
        "    if word in word_repetation_Requirement:\n",
        "        if word_repetation_Requirement[word] > 5:\n",
        "            finalVocabulary_Requirement[word] = word_repetation_Requirement[word]\n",
        "\n",
        "    if word in word_repetation_Skill:\n",
        "        if word_repetation_Skill[word] > 5:\n",
        "            finalVocabulary_Skill[word] = word_repetation_Skill[word]\n",
        "\n",
        "    if word in word_repetation_SoftSkill:\n",
        "        if word_repetation_SoftSkill[word] > 5:\n",
        "            finalVocabulary_SoftSkill[word] = word_repetation_SoftSkill[word]\n",
        "\n",
        "    if word in word_repetation_Education:\n",
        "        if word_repetation_Education[word] > 5:\n",
        "            finalVocabulary_Education[word] = word_repetation_Education[word]\n",
        "\n",
        "    if word in word_repetation_Experience:\n",
        "        if word_repetation_Experience[word] > 5:\n",
        "            finalVocabulary_Experience[word] = word_repetation_Experience[word]\n"
      ],
      "metadata": {
        "id": "LnbB1TvqGadf"
      },
      "execution_count": null,
      "outputs": []
    },
    {
      "cell_type": "code",
      "source": [
        "print(\"Total Vocab:\",len(finalVocabulary))"
      ],
      "metadata": {
        "colab": {
          "base_uri": "https://localhost:8080/"
        },
        "id": "pyI29C_bH37K",
        "outputId": "aab67d81-fa3a-4078-d09b-ae5e16741ddb"
      },
      "execution_count": null,
      "outputs": [
        {
          "output_type": "stream",
          "name": "stdout",
          "text": [
            "Total Vocab: 4959\n"
          ]
        }
      ]
    },
    {
      "cell_type": "code",
      "source": [
        "probabilityOfWord = dict()\n",
        "probabilityOfWord_given_Responsibility = dict()\n",
        "probabilityOfWord_given_Requirement = dict()\n",
        "probabilityOfWord_given_Skill = dict()\n",
        "probabilityOfWord_given_SoftSkill = dict()\n",
        "probabilityOfWord_given_Education = dict()\n",
        "probabilityOfWord_given_Experience = dict()\n",
        "\n",
        "for word in finalVocabulary:\n",
        "    probabilityOfWord[word] = finalVocabulary[word] / document_len\n",
        "    if word in finalVocabulary_Responsibility:\n",
        "        probabilityOfWord_given_Responsibility[word] = finalVocabulary_Responsibility[word] / trainset_Responsibility_len\n",
        "    if word in finalVocabulary_Requirement:\n",
        "        probabilityOfWord_given_Requirement[word] = finalVocabulary_Requirement[word] / trainset_Requirement_len\n",
        "    if word in finalVocabulary_Skill:\n",
        "        probabilityOfWord_given_Skill[word] = finalVocabulary_Skill[word] / trainset_Skill_len\n",
        "    if word in finalVocabulary_SoftSkill:\n",
        "        probabilityOfWord_given_SoftSkill[word] = finalVocabulary_SoftSkill[word] / trainset_SoftSkill_len\n",
        "    if word in finalVocabulary_Education:\n",
        "        probabilityOfWord_given_Education[word] = finalVocabulary_Education[word] / trainset_Education_len\n",
        "    if word in finalVocabulary_Experience:\n",
        "        probabilityOfWord_given_Experience[word] = finalVocabulary_Experience[word] / trainset_Experience_len\n",
        "    "
      ],
      "metadata": {
        "id": "NhbnBJMwIHhG"
      },
      "execution_count": null,
      "outputs": []
    },
    {
      "cell_type": "code",
      "source": [
        "import numpy as np\n",
        "import math\n",
        "\n",
        "prev_accuracy = []\n",
        "dev_set_array = np.array_split(dev_set, 5)\n",
        "clicks = 0\n",
        "\n",
        "print(\"Accuracy using 5-Fold Cross Validation:\")\n",
        "\n",
        "for df in dev_set_array:\n",
        "    count = 0\n",
        "    clicks += 1\n",
        "    typePredicted = []\n",
        "\n",
        "    prob_of_resp_g_wir = dict()\n",
        "    prob_of_req_g_wir = dict()\n",
        "    prob_of_skill_g_wir = dict()\n",
        "    prob_of_soft_g_wir = dict()\n",
        "    prob_of_edu_g_wir = dict()\n",
        "    prob_of_exp_g_wir = dict()\n",
        "    \n",
        "    for ind in df.index:\n",
        "        resp_number = 0.00\n",
        "        req_number = 0.00\n",
        "        skill_number=0.00\n",
        "        soft_number=0.00\n",
        "        edu_number=0.00\n",
        "        exp_number=0.00\n",
        "        \n",
        "        reviewSet = set(df['New_Sentence'][ind].lower().split())\n",
        "\n",
        "        for word in reviewSet:\n",
        "            if word in probabilityOfWord:\n",
        "                if word not in probabilityOfWord_given_Responsibility:\n",
        "                    req_number = 0\n",
        "                    skill_number=0\n",
        "                    soft_number=0\n",
        "                    edu_number=0\n",
        "                    exp_number=0\n",
        "\n",
        "                elif word not in probabilityOfWord_given_Requirement:\n",
        "                    resp_number = 0\n",
        "                    skill_number=0\n",
        "                    soft_number=0\n",
        "                    edu_number=0\n",
        "                    exp_number=0\n",
        "\n",
        "                elif word not in probabilityOfWord_given_Skill:\n",
        "                  req_number=0\n",
        "                  resp_number=0\n",
        "                  soft_number=0\n",
        "                  edu_number=0\n",
        "                  exp_number=0\n",
        "                \n",
        "                elif word not in probabilityOfWord_given_SoftSkill:\n",
        "                  req_number=0\n",
        "                  resp_number=0\n",
        "                  skill_number=0\n",
        "                  edu_number=0\n",
        "                  exp_number=0\n",
        "\n",
        "                elif word not in probabilityOfWord_given_Education:\n",
        "                  req_number=0\n",
        "                  resp_number=0\n",
        "                  skill_number=0\n",
        "                  soft_number=0\n",
        "                  exp_number=0\n",
        "\n",
        "                elif word not in probabilityOfWord_given_Experience:\n",
        "                  req_number=0\n",
        "                  resp_number=0\n",
        "                  skill_number=0\n",
        "                  edu_number=0\n",
        "                  soft_number=0\n",
        "\n",
        "\n",
        "                else:\n",
        "                    resp_number = resp_number + math.log(probabilityOfWord_given_Responsibility[word])\n",
        "                    req_number = req_number + math.log(probabilityOfWord_given_Requirement[word])\n",
        "                    skill_number = skill_number + math.log(probabilityOfWord_given_Skill[word])       \n",
        "                    soft_number = soft_number + math.log(probabilityOfWord_given_SoftSkill[word])\n",
        "                    edu_number = edu_number + math.log(probabilityOfWord_given_Education[word])\n",
        "                    exp_number = exp_number + math.log(probabilityOfWord_given_Experience[word])\n",
        "\n",
        "        a=prob_of_resp_g_wir[ind] = pow(math.e, resp_number) * Responsibility_train_set\n",
        "        b=prob_of_req_g_wir[ind] = pow(math.e, req_number) * Requirement_train_set\n",
        "        c=prob_of_skill_g_wir[ind] = pow(math.e, skill_number) * Skill_train_set\n",
        "        d=prob_of_soft_g_wir[ind] = pow(math.e, soft_number) * SoftSkill_train_set\n",
        "        e=prob_of_edu_g_wir[ind] = pow(math.e, edu_number) * Education_train_set\n",
        "        f=prob_of_exp_g_wir[ind] = pow(math.e, exp_number) * Experience_train_set\n",
        "                            \n",
        "        if(a>b and a>c and a>d and a>e and a>f):\n",
        "          typePredicted.append(0)\n",
        "        elif(b>a and b>c and b>d and b>e and b>f):\n",
        "          typePredicted.append(1)\n",
        "        elif(c>a and c>b and c>d and c>e and c>f):\n",
        "          typePredicted.append(2)\n",
        "        elif(d>a and d>b and d>c and d>e and d>f):\n",
        "          typePredicted.append(3)\n",
        "        elif(e>a and e>b and e>c and e>d and e>f):\n",
        "          typePredicted.append(4)\n",
        "        elif(f>a and f>b and f>c and f>d and f>e):\n",
        "          typePredicted.append(5)          \n",
        "                                    \n",
        "    df['prediction'] = typePredicted\n",
        "                                                                        \n",
        "    for ind in df.index:\n",
        "        if df['TypeId'][ind] == df['prediction'][ind]:\n",
        "            count += 1\n",
        "                                            \n",
        "    accuracy = count / len(df)\n",
        "    prev_accuracy.append(accuracy)\n",
        "    print (clicks,\": Accuracy dev_set:\",accuracy*100,\"%\")"
      ],
      "metadata": {
        "colab": {
          "base_uri": "https://localhost:8080/"
        },
        "id": "dCxMG5Nmixe2",
        "outputId": "8a2a154a-beae-4c55-9f09-0b197a4987e9"
      },
      "execution_count": null,
      "outputs": [
        {
          "output_type": "stream",
          "name": "stdout",
          "text": [
            "Accuracy using 5-Fold Cross Validation:\n",
            "1 : Accuracy dev_set: 47.28813559322034 %\n",
            "2 : Accuracy dev_set: 45.16949152542373 %\n",
            "3 : Accuracy dev_set: 44.152542372881356 %\n",
            "4 : Accuracy dev_set: 48.47457627118644 %\n",
            "5 : Accuracy dev_set: 45.847457627118644 %\n"
          ]
        }
      ]
    },
    {
      "cell_type": "code",
      "source": [
        "from pandas.core.groupby.ops import final\n",
        "prob_word_given_resp_smooth = dict()\n",
        "prob_word_given_req_smooth = dict()\n",
        "prob_word_given_skill_smooth = dict()\n",
        "prob_word_given_soft_smooth=dict()\n",
        "prob_word_given_edu_smooth=dict()\n",
        "prob_word_given_exp_smooth=dict()\n",
        "\n",
        "\n",
        "for word in finalVocabulary:\n",
        "    if word in finalVocabulary_Responsibility:\n",
        "        prob_word_given_resp_smooth[word] = (finalVocabulary_Responsibility[word]+1) / (trainset_Responsibility_len + len(finalVocabulary))\n",
        "        \n",
        "    if word in finalVocabulary_Requirement:\n",
        "        prob_word_given_req_smooth[word] = (finalVocabulary_Requirement[word]+1) / (trainset_Requirement_len + len(finalVocabulary))\n",
        "    \n",
        "    if word in finalVocabulary_Skill:\n",
        "      probabilityOfWord_given_Skill[word]=(finalVocabulary_Skill[word]+1) / (trainset_Skill_len + len(finalVocabulary))\n",
        "\n",
        "    if word in finalVocabulary_SoftSkill:\n",
        "      probabilityOfWord_given_SoftSkill[word]=(finalVocabulary_SoftSkill[word]+1) / (trainset_SoftSkill_len + len(finalVocabulary))\n",
        "\n",
        "    if word in finalVocabulary_Education:\n",
        "      probabilityOfWord_given_Education[word]=(finalVocabulary_Education[word]+1) / (trainset_Education_len + len(finalVocabulary))\n",
        "\n",
        "    if word in finalVocabulary_Experience:\n",
        "      probabilityOfWord_given_Experience[word]=(finalVocabulary_Experience[word]+1) / (trainset_Experience_len + len(finalVocabulary))"
      ],
      "metadata": {
        "id": "-bSmYK164wBB"
      },
      "execution_count": null,
      "outputs": []
    },
    {
      "cell_type": "code",
      "source": [
        "\n",
        "smooth_accuracy = []\n",
        "dev_set_array = np.array_split(dev_set, 5)\n",
        "clicks = 0\n",
        "\n",
        "print(\"Accuracy using 5-Fold Cross Validation:\")\n",
        "\n",
        "for df in dev_set_array:\n",
        "    count = 0\n",
        "    clicks += 1\n",
        "    typePredicted = []\n",
        "\n",
        "    prob_of_resp_g_wir = dict()\n",
        "    prob_of_req_g_wir = dict()\n",
        "    prob_of_skill_g_wir = dict()\n",
        "    prob_of_soft_g_wir = dict()\n",
        "    prob_of_edu_g_wir = dict()\n",
        "    prob_of_exp_g_wir = dict()\n",
        "    \n",
        "    for ind in df.index:\n",
        "        resp_number = 0.00\n",
        "        req_number = 0.00\n",
        "        skill_number=0.00\n",
        "        soft_number=0.00\n",
        "        edu_number=0.00\n",
        "        exp_number=0.00\n",
        "        \n",
        "        reviewSet = set(df['New_Sentence'][ind].lower().split())\n",
        "\n",
        "        for word in reviewSet:\n",
        "            if word in probabilityOfWord:\n",
        "                if word not in probabilityOfWord_given_Responsibility:\n",
        "                    req_number = 0\n",
        "                    skill_number=0\n",
        "                    soft_number=0\n",
        "                    edu_number=0\n",
        "                    exp_number=0\n",
        "\n",
        "                elif word not in probabilityOfWord_given_Requirement:\n",
        "                    resp_number = 0\n",
        "                    skill_number=0\n",
        "                    soft_number=0\n",
        "                    edu_number=0\n",
        "                    exp_number=0\n",
        "\n",
        "                elif word not in probabilityOfWord_given_Skill:\n",
        "                  req_number=0\n",
        "                  resp_number=0\n",
        "                  soft_number=0\n",
        "                  edu_number=0\n",
        "                  exp_number=0\n",
        "                \n",
        "                elif word not in probabilityOfWord_given_SoftSkill:\n",
        "                  req_number=0\n",
        "                  resp_number=0\n",
        "                  skill_number=0\n",
        "                  edu_number=0\n",
        "                  exp_number=0\n",
        "\n",
        "                elif word not in probabilityOfWord_given_Education:\n",
        "                  req_number=0\n",
        "                  resp_number=0\n",
        "                  skill_number=0\n",
        "                  soft_number=0\n",
        "                  exp_number=0\n",
        "\n",
        "                elif word not in probabilityOfWord_given_Experience:\n",
        "                  req_number=0\n",
        "                  resp_number=0\n",
        "                  skill_number=0\n",
        "                  edu_number=0\n",
        "                  soft_number=0\n",
        "\n",
        "\n",
        "                else:\n",
        "                    resp_number = resp_number + math.log(probabilityOfWord_given_Responsibility[word])\n",
        "                    req_number = req_number + math.log(probabilityOfWord_given_Requirement[word])\n",
        "                    skill_number = skill_number + math.log(probabilityOfWord_given_Skill[word])       \n",
        "                    soft_number = soft_number + math.log(probabilityOfWord_given_SoftSkill[word])\n",
        "                    edu_number = edu_number + math.log(probabilityOfWord_given_Education[word])\n",
        "                    exp_number = exp_number + math.log(probabilityOfWord_given_Experience[word])\n",
        "\n",
        "        a=prob_of_resp_g_wir[ind] = pow(math.e, resp_number) * Responsibility_train_set\n",
        "        b=prob_of_req_g_wir[ind] = pow(math.e, req_number) * Requirement_train_set\n",
        "        c=prob_of_skill_g_wir[ind] = pow(math.e, skill_number) * Skill_train_set\n",
        "        d=prob_of_soft_g_wir[ind] = pow(math.e, soft_number) * SoftSkill_train_set\n",
        "        e=prob_of_edu_g_wir[ind] = pow(math.e, edu_number) * Education_train_set\n",
        "        f=prob_of_exp_g_wir[ind] = pow(math.e, exp_number) * Experience_train_set\n",
        "                            \n",
        "        if(a>b and a>c and a>d and a>e and a>f):\n",
        "          typePredicted.append(0)\n",
        "        elif(b>a and b>c and b>d and b>e and b>f):\n",
        "          typePredicted.append(1)\n",
        "        elif(c>a and c>b and c>d and c>e and c>f):\n",
        "          typePredicted.append(2)\n",
        "        elif(d>a and d>b and d>c and d>e and d>f):\n",
        "          typePredicted.append(3)\n",
        "        elif(e>a and e>b and e>c and e>d and e>f):\n",
        "          typePredicted.append(4)\n",
        "        elif(f>a and f>b and f>c and f>d and f>e):\n",
        "          typePredicted.append(5)          \n",
        "                                    \n",
        "    df['prediction'] = typePredicted\n",
        "                                                                        \n",
        "    for ind in df.index:\n",
        "        if df['TypeId'][ind] == df['prediction'][ind]:\n",
        "            count += 1\n",
        "                                            \n",
        "    accuracy = count / len(df)\n",
        "    smooth_accuracy.append(accuracy)\n",
        "    print (clicks,\": Accuracy dev_set:\",accuracy*100,\"%\")"
      ],
      "metadata": {
        "colab": {
          "base_uri": "https://localhost:8080/"
        },
        "id": "kLoReOJM_v0g",
        "outputId": "3e3608c6-9d89-4fa2-bce4-8eb056c56492"
      },
      "execution_count": null,
      "outputs": [
        {
          "output_type": "stream",
          "name": "stdout",
          "text": [
            "Accuracy using 5-Fold Cross Validation:\n",
            "1 : Accuracy dev_set: 43.474576271186436 %\n",
            "2 : Accuracy dev_set: 43.813559322033896 %\n",
            "3 : Accuracy dev_set: 42.71186440677966 %\n",
            "4 : Accuracy dev_set: 45.76271186440678 %\n",
            "5 : Accuracy dev_set: 44.40677966101695 %\n"
          ]
        }
      ]
    },
    {
      "cell_type": "code",
      "source": [
        "\n",
        "normal = 0\n",
        "smoothing = 0\n",
        "\n",
        "for i in range(len(prev_accuracy)):\n",
        "    if prev_accuracy[i] > smooth_accuracy[i]:\n",
        "        normal += 1\n",
        "    else:\n",
        "        smoothing +=1\n",
        "\n",
        "if(normal > smoothing):\n",
        "    print(\"For the given dev dataset, accuracy is better without smoothing\")\n",
        "else:\n",
        "    print(\"For the given dev dataset, accuracy is better with smoothing\")"
      ],
      "metadata": {
        "colab": {
          "base_uri": "https://localhost:8080/"
        },
        "id": "suKhbN8FC06t",
        "outputId": "3aed7daf-ea59-468d-93fc-acfe90c7faa7"
      },
      "execution_count": null,
      "outputs": [
        {
          "output_type": "stream",
          "name": "stdout",
          "text": [
            "For the given dev dataset, accuracy is better without smoothing\n"
          ]
        }
      ]
    },
    {
      "cell_type": "code",
      "source": [
        "import matplotlib\n",
        "from matplotlib import pyplot as plt\n",
        "\n",
        "plt.plot(prev_accuracy, label='Before Smoothing')\n",
        "plt.plot(smooth_accuracy, label='After Smoothing')\n",
        "plt.legend()\n"
      ],
      "metadata": {
        "colab": {
          "base_uri": "https://localhost:8080/",
          "height": 281
        },
        "id": "g_CIv32P7baR",
        "outputId": "bbb35052-4bcb-4461-89b7-f57e66e95bd1"
      },
      "execution_count": null,
      "outputs": [
        {
          "output_type": "execute_result",
          "data": {
            "text/plain": [
              "<matplotlib.legend.Legend at 0x7fed76e69e50>"
            ]
          },
          "metadata": {},
          "execution_count": 67
        },
        {
          "output_type": "display_data",
          "data": {
            "text/plain": [
              "<Figure size 432x288 with 1 Axes>"
            ],
            "image/png": "[encoded data removed]"
          },
          "metadata": {
            "needs_background": "light"
          }
        }
      ]
    },
    {
      "cell_type": "code",
      "source": [
        "Pred_resp_word=dict()\n",
        "Pred_req_word=dict()\n",
        "Pred_skill_word=dict()\n",
        "Pred_soft_word=dict()\n",
        "Pred_edu_word=dict()\n",
        "Pred_exp_word=dict()\n",
        "\n",
        "for word in finalVocabulary:\n",
        "  if word in finalVocabulary_Responsibility:\n",
        "    Pred_resp_word[word] = (probabilityOfWord_given_Responsibility[word] * Responsibility_train_set) / probabilityOfWord[word]\n",
        "  if word in finalVocabulary_Requirement:\n",
        "    Pred_req_word[word] = (probabilityOfWord_given_Requirement[word] * Requirement_train_set) / probabilityOfWord[word]\n",
        "  if word in finalVocabulary_Skill:\n",
        "    Pred_skill_word[word]=(probabilityOfWord_given_Skill[word] * Skill_train_set) / probabilityOfWord[word]\n",
        "  if word in finalVocabulary_SoftSkill:\n",
        "    Pred_soft_word[word]=(probabilityOfWord_given_SoftSkill[word] * SoftSkill_train_set)/ probabilityOfWord[word]\n",
        "  if word in finalVocabulary_Education:\n",
        "    Pred_edu_word[word]=(probabilityOfWord_given_Education[word]* Education_train_set)/ probabilityOfWord[word]\n",
        "  if word in finalVocabulary_Experience:\n",
        "    Pred_exp_word[word]=(probabilityOfWord_given_Experience[word]* Experience_train_set)/probabilityOfWord[word]"
      ],
      "metadata": {
        "id": "wnf4NRRZAJ4c"
      },
      "execution_count": null,
      "outputs": []
    },
    {
      "cell_type": "code",
      "source": [
        "import operator\n",
        "\n",
        "print(\"Top 10 words predicting responsibility class:\")\n",
        "Pred_resp_word = sorted(Pred_resp_word.items(),key=operator.itemgetter(1),reverse=True) \n",
        "Pred_resp_word[:10]\n"
      ],
      "metadata": {
        "colab": {
          "base_uri": "https://localhost:8080/"
        },
        "id": "H6On1vGkDfjd",
        "outputId": "68e2e2fb-7e09-4a39-8054-3530b62196fd"
      },
      "execution_count": null,
      "outputs": [
        {
          "output_type": "stream",
          "name": "stdout",
          "text": [
            "Top 10 words predicting responsibility class:\n"
          ]
        },
        {
          "output_type": "execute_result",
          "data": {
            "text/plain": [
              "[('maximizing', 1.0000000000000002),\n",
              " ('behalf', 1.0000000000000002),\n",
              " ('seminars', 1.0000000000000002),\n",
              " ('sending', 1.0000000000000002),\n",
              " ('kt', 1.0000000000000002),\n",
              " ('suivi', 1.0000000000000002),\n",
              " ('improves', 1.0000000000000002),\n",
              " ('mentorship', 1.0000000000000002),\n",
              " ('assists', 1.0000000000000002),\n",
              " ('koordination', 1.0000000000000002)]"
            ]
          },
          "metadata": {},
          "execution_count": 69
        }
      ]
    },
    {
      "cell_type": "code",
      "source": [
        "print(\"Top 10 words predicting requirements class:\")\n",
        "Pred_req_word = sorted(Pred_req_word.items(),key=operator.itemgetter(1),reverse=True) \n",
        "Pred_req_word[:10]"
      ],
      "metadata": {
        "colab": {
          "base_uri": "https://localhost:8080/"
        },
        "id": "tJbD7WL9G1Rq",
        "outputId": "c205eb0e-abf2-48f0-d379-8b04463f32c1"
      },
      "execution_count": null,
      "outputs": [
        {
          "output_type": "stream",
          "name": "stdout",
          "text": [
            "Top 10 words predicting requirements class:\n"
          ]
        },
        {
          "output_type": "execute_result",
          "data": {
            "text/plain": [
              "[('covid', 1.0000000000000002),\n",
              " ('climb', 1.0000000000000002),\n",
              " ('lawful', 1.0),\n",
              " ('restrictions', 1.0),\n",
              " ('citizens', 1.0),\n",
              " ('cabling', 1.0),\n",
              " ('relocate', 1.0),\n",
              " ('pounds', 1.0),\n",
              " ('reside', 1.0),\n",
              " ('kneel', 1.0)]"
            ]
          },
          "metadata": {},
          "execution_count": 70
        }
      ]
    },
    {
      "cell_type": "code",
      "source": [
        "print(\"Top 10 words predicting skills class:\")\n",
        "Pred_skill_word = sorted(Pred_skill_word.items(),key=operator.itemgetter(1),reverse=True) \n",
        "Pred_skill_word[:10]"
      ],
      "metadata": {
        "colab": {
          "base_uri": "https://localhost:8080/"
        },
        "id": "1ILiifSJS5w5",
        "outputId": "08d87f99-bfce-4230-df97-e4fea4cde543"
      },
      "execution_count": null,
      "outputs": [
        {
          "output_type": "stream",
          "name": "stdout",
          "text": [
            "Top 10 words predicting skills class:\n"
          ]
        },
        {
          "output_type": "execute_result",
          "data": {
            "text/plain": [
              "[('anwendungen', 0.610849585294777),\n",
              " ('dynatrace', 0.610849585294777),\n",
              " ('mockito', 0.5983832672275367),\n",
              " ('simulink', 0.5983832672275367),\n",
              " ('xp', 0.5235853588240945),\n",
              " ('eclipse', 0.5235853588240945),\n",
              " ('hrd', 0.5026419444711308),\n",
              " ('matlab', 0.49978602433209024),\n",
              " ('jpa', 0.4654092078436396),\n",
              " ('opening', 0.4654092078436396)]"
            ]
          },
          "metadata": {},
          "execution_count": 71
        }
      ]
    },
    {
      "cell_type": "code",
      "source": [
        "print(\"Top 10 words predicting softskill class:\")\n",
        "Pred_soft_word = sorted(Pred_soft_word.items(),key=operator.itemgetter(1),reverse=True) \n",
        "Pred_soft_word[:10]"
      ],
      "metadata": {
        "colab": {
          "base_uri": "https://localhost:8080/"
        },
        "id": "owpQmQvUTES4",
        "outputId": "c86678a1-e84a-4ec1-dce4-a047eda6d7b0"
      },
      "execution_count": null,
      "outputs": [
        {
          "output_type": "stream",
          "name": "stdout",
          "text": [
            "Top 10 words predicting softskill class:\n"
          ]
        },
        {
          "output_type": "execute_result",
          "data": {
            "text/plain": [
              "[('arbeitsweise', 0.703641456582633),\n",
              " ('gravitas', 0.703641456582633),\n",
              " ('appetite', 0.703641456582633),\n",
              " ('instincts', 0.703641456582633),\n",
              " ('auftreten', 0.6892814268564569),\n",
              " ('denken', 0.6892814268564569),\n",
              " ('teamfgkeit', 0.6785114045618247),\n",
              " ('flexibilitxet', 0.6634333733493397),\n",
              " ('fgkeiten', 0.6634333733493397),\n",
              " ('solide', 0.6031212484993999)]"
            ]
          },
          "metadata": {},
          "execution_count": 72
        }
      ]
    },
    {
      "cell_type": "code",
      "source": [
        "print(\"Top 10 words predicting education class:\")\n",
        "Pred_edu_word = sorted(Pred_edu_word.items(),key=operator.itemgetter(1),reverse=True) \n",
        "Pred_edu_word[:10]"
      ],
      "metadata": {
        "colab": {
          "base_uri": "https://localhost:8080/"
        },
        "id": "kbd0r_CRTL8l",
        "outputId": "b0d90ff5-25ea-495a-a08e-bb695917797e"
      },
      "execution_count": null,
      "outputs": [
        {
          "output_type": "stream",
          "name": "stdout",
          "text": [
            "Top 10 words predicting education class:\n"
          ]
        },
        {
          "output_type": "execute_result",
          "data": {
            "text/plain": [
              "[('engr', 0.49588405797101454),\n",
              " ('doctorate', 0.49588405797101454),\n",
              " ('mcse', 0.4781739130434783),\n",
              " ('majors', 0.4554037267080746),\n",
              " ('bsee', 0.4250434782608697),\n",
              " ('semester', 0.4250434782608697),\n",
              " ('pharmacy', 0.4250434782608696),\n",
              " ('psychology', 0.4250434782608695),\n",
              " ('bsc', 0.4000409207161126),\n",
              " ('institute', 0.37781642512077296)]"
            ]
          },
          "metadata": {},
          "execution_count": 73
        }
      ]
    },
    {
      "cell_type": "code",
      "source": [
        "print(\"Top 10 words predicting experience class:\")\n",
        "Pred_exp_word = sorted(Pred_exp_word.items(),key=operator.itemgetter(1),reverse=True) \n",
        "Pred_exp_word[:10]"
      ],
      "metadata": {
        "colab": {
          "base_uri": "https://localhost:8080/"
        },
        "id": "mDlW4XusUEan",
        "outputId": "7dc64cba-89f3-454f-9be0-bfa74bf3d601"
      },
      "execution_count": null,
      "outputs": [
        {
          "output_type": "stream",
          "name": "stdout",
          "text": [
            "Top 10 words predicting experience class:\n"
          ]
        },
        {
          "output_type": "execute_result",
          "data": {
            "text/plain": [
              "[('ten', 0.6598416598416599),\n",
              " ('universitxes', 0.6598416598416599),\n",
              " ('ecoles', 0.6598416598416599),\n",
              " ('dau', 0.6478445387536297),\n",
              " ('moins', 0.6334479934479935),\n",
              " ('ann', 0.6309735872235872),\n",
              " ('haveminimum', 0.6176117936117936),\n",
              " ('jahre', 0.6143353384732695),\n",
              " ('ans', 0.6076681332495286),\n",
              " ('avez', 0.5938574938574939)]"
            ]
          },
          "metadata": {},
          "execution_count": 74
        }
      ]
    },
    {
      "cell_type": "code",
      "source": [
        "typePredicted=[]\n",
        "prob_of_resp_g_wir=dict()\n",
        "prob_of_req_g_wir=dict()\n",
        "prob_of_skill_g_wir=dict()\n",
        "prob_of_soft_g_wir=dict()\n",
        "prob_of_edu_g_wir=dict()\n",
        "prob_of_exp_g_wir=dict()\n",
        "\n",
        "if(normal < smoothing):\n",
        "    probabilityOfWord_given_Responsibility = prob_word_given_resp_smooth\n",
        "    probabilityOfWord_given_Requirement=prob_word_given_req_smooth\n",
        "    probabilityOfWord_given_Skill=prob_word_given_skill_smooth\n",
        "    probabilityOfWord_given_SoftSkill=prob_word_given_soft_smooth\n",
        "    probabilityOfWord_given_Education=prob_word_given_edu_smooth\n",
        "    probabilityOfWord_given_Experience=prob_word_given_exp_smooth\n",
        "\n",
        "for ind in test_set.index:\n",
        "    resp_number = 0.00\n",
        "    req_number = 0.00\n",
        "    skill_number=0.00\n",
        "    soft_number=0.00\n",
        "    edu_number=0.00\n",
        "    exp_number=0.00\n",
        "        \n",
        "    reviewSet = set(test_set['New_Sentence'][ind].lower().split())\n",
        "\n",
        "    \n",
        "    for word in reviewSet:\n",
        "        if word in probabilityOfWord:\n",
        "            if word not in probabilityOfWord_given_Responsibility:\n",
        "                req_number = 0\n",
        "                skill_number=0\n",
        "                soft_number=0\n",
        "                edu_number=0\n",
        "                exp_number=0\n",
        "\n",
        "            elif word not in probabilityOfWord_given_Requirement:\n",
        "                resp_number = 0\n",
        "                skill_number=0\n",
        "                soft_number=0\n",
        "                edu_number=0\n",
        "                exp_number=0\n",
        "\n",
        "            elif word not in probabilityOfWord_given_Skill:\n",
        "                req_number=0\n",
        "                resp_number=0\n",
        "                soft_number=0\n",
        "                edu_number=0\n",
        "                exp_number=0\n",
        "                \n",
        "            elif word not in probabilityOfWord_given_SoftSkill:\n",
        "                req_number=0\n",
        "                resp_number=0\n",
        "                skill_number=0\n",
        "                edu_number=0\n",
        "                exp_number=0\n",
        "\n",
        "            elif word not in probabilityOfWord_given_Education:\n",
        "                req_number=0\n",
        "                resp_number=0\n",
        "                skill_number=0\n",
        "                soft_number=0\n",
        "                exp_number=0\n",
        "\n",
        "            elif word not in probabilityOfWord_given_Experience:\n",
        "                req_number=0\n",
        "                resp_number=0\n",
        "                skill_number=0\n",
        "                edu_number=0\n",
        "                soft_number=0\n",
        "\n",
        "\n",
        "            else:\n",
        "                resp_number = resp_number + math.log(probabilityOfWord_given_Responsibility[word])\n",
        "                req_number = req_number + math.log(probabilityOfWord_given_Requirement[word])\n",
        "                skill_number = skill_number + math.log(probabilityOfWord_given_Skill[word])       \n",
        "                soft_number = soft_number + math.log(probabilityOfWord_given_SoftSkill[word])\n",
        "                edu_number = edu_number + math.log(probabilityOfWord_given_Education[word])\n",
        "                exp_number = exp_number + math.log(probabilityOfWord_given_Experience[word])\n",
        "\n",
        "    a=prob_of_resp_g_wir[ind] = pow(math.e, resp_number) * Responsibility_train_set\n",
        "    b=prob_of_req_g_wir[ind] = pow(math.e, req_number) * Requirement_train_set\n",
        "    c=prob_of_skill_g_wir[ind] = pow(math.e, skill_number) * Skill_train_set\n",
        "    d=prob_of_soft_g_wir[ind] = pow(math.e, soft_number) * SoftSkill_train_set\n",
        "    e=prob_of_edu_g_wir[ind] = pow(math.e, edu_number) * Education_train_set\n",
        "    f=prob_of_exp_g_wir[ind] = pow(math.e, exp_number) * Experience_train_set\n",
        "                            \n",
        "    if(a>b and a>c and a>d and a>e and a>f):\n",
        "      typePredicted.append(0)\n",
        "    elif(b>a and b>c and b>d and b>e and b>f):\n",
        "      typePredicted.append(1)\n",
        "    elif(c>a and c>b and c>d and c>e and c>f):\n",
        "      typePredicted.append(2)\n",
        "    elif(d>a and d>b and d>c and d>e and d>f):\n",
        "      typePredicted.append(3)\n",
        "    elif(e>a and e>b and e>c and e>d and e>f):\n",
        "      typePredicted.append(4)\n",
        "    elif(f>a and f>b and f>c and f>d and f>e):\n",
        "      typePredicted.append(5)\n",
        "\n",
        "test_set['prediction'] = typePredicted\n",
        "                                                                        \n",
        "for ind in test_set.index:\n",
        "  if test_set['TypeId'][ind] == test_set['prediction'][ind]:\n",
        "    count += 1\n",
        "                                            \n",
        "accuracy = count / len(test_set)\n",
        "print (\"Accuracy :\",accuracy*100,\"%\")"
      ],
      "metadata": {
        "colab": {
          "base_uri": "https://localhost:8080/"
        },
        "id": "80xZejUYaA-H",
        "outputId": "58ebae49-da45-4c21-83ac-6a5926aa632b"
      },
      "execution_count": null,
      "outputs": [
        {
          "output_type": "stream",
          "name": "stdout",
          "text": [
            "Accuracy : 95.06863243518048 %\n"
          ]
        }
      ]
    },
    {
      "cell_type": "markdown",
      "source": [
        "References \n",
        "\n",
        "[1] https://www.dataquest.io/blog/naive-bayes-tutorial/ \n",
        "\n",
        "[2] https://stackabuse.com/the-naive-bayes-algorithm-in-python-with-scikit-learn/ \n",
        "\n",
        "[3]https://stackoverflow.com/questions/51085553/scikit-learn-5-fold-cross-validation-train-test-split \n",
        "\n",
        "[4]https://www.pythonpool.com/remove-punctuation-python/ \n",
        "\n",
        "[5]https://www.analyticsvidhya.com/blog/2021/04/improve-naive-bayes-text-classifier-using-laplace-smoothing/ \n",
        "\n",
        "[6]https://www.codingninjas.com/codestudio/library/naive-bayes-and-laplace-smoothing-3905 \n"
      ],
      "metadata": {
        "id": "hIXHXyt7q3CO"
      }
    }
  ]
}